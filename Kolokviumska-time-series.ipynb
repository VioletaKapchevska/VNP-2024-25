{
 "cells": [
  {
   "cell_type": "code",
   "execution_count": 191,
   "id": "8f95a882-298b-4d0a-ba60-2241e5012c97",
   "metadata": {},
   "outputs": [],
   "source": [
    "import pandas as pd\n",
    "import numpy as np\n",
    "import matplotlib.pyplot as plt\n",
    "import seaborn as sns\n",
    "import missingno as msno\n",
    "from sklearn.impute import SimpleImputer, KNNImputer\n",
    "from sklearn.preprocessing import MinMaxScaler, LabelEncoder"
   ]
  },
  {
   "cell_type": "code",
   "execution_count": 192,
   "id": "a8e09cd8-4920-4b16-9c33-f1b4fcd618d1",
   "metadata": {},
   "outputs": [
    {
     "data": {
      "text/html": [
       "<div>\n",
       "<style scoped>\n",
       "    .dataframe tbody tr th:only-of-type {\n",
       "        vertical-align: middle;\n",
       "    }\n",
       "\n",
       "    .dataframe tbody tr th {\n",
       "        vertical-align: top;\n",
       "    }\n",
       "\n",
       "    .dataframe thead th {\n",
       "        text-align: right;\n",
       "    }\n",
       "</style>\n",
       "<table border=\"1\" class=\"dataframe\">\n",
       "  <thead>\n",
       "    <tr style=\"text-align: right;\">\n",
       "      <th></th>\n",
       "      <th>Datetime</th>\n",
       "      <th>Temperature</th>\n",
       "      <th>Humidity</th>\n",
       "      <th>WindSpeed</th>\n",
       "      <th>GeneralDiffuseFlows</th>\n",
       "      <th>DiffuseFlows</th>\n",
       "    </tr>\n",
       "  </thead>\n",
       "  <tbody>\n",
       "    <tr>\n",
       "      <th>0</th>\n",
       "      <td>2017-03-01 16:40:00</td>\n",
       "      <td>21.33</td>\n",
       "      <td>55.91</td>\n",
       "      <td>0.080</td>\n",
       "      <td>387.400</td>\n",
       "      <td>427.300</td>\n",
       "    </tr>\n",
       "    <tr>\n",
       "      <th>1</th>\n",
       "      <td>2017-07-27 06:30:00</td>\n",
       "      <td>23.10</td>\n",
       "      <td>48.58</td>\n",
       "      <td>4.908</td>\n",
       "      <td>10.450</td>\n",
       "      <td>8.630</td>\n",
       "    </tr>\n",
       "    <tr>\n",
       "      <th>2</th>\n",
       "      <td>2017-10-11 19:00:00</td>\n",
       "      <td>23.10</td>\n",
       "      <td>59.82</td>\n",
       "      <td>0.084</td>\n",
       "      <td>0.446</td>\n",
       "      <td>0.322</td>\n",
       "    </tr>\n",
       "    <tr>\n",
       "      <th>3</th>\n",
       "      <td>2017-02-10 06:50:00</td>\n",
       "      <td>12.25</td>\n",
       "      <td>80.80</td>\n",
       "      <td>4.916</td>\n",
       "      <td>0.051</td>\n",
       "      <td>0.111</td>\n",
       "    </tr>\n",
       "    <tr>\n",
       "      <th>4</th>\n",
       "      <td>2017-03-06 16:00:00</td>\n",
       "      <td>15.62</td>\n",
       "      <td>59.38</td>\n",
       "      <td>0.075</td>\n",
       "      <td>533.400</td>\n",
       "      <td>579.900</td>\n",
       "    </tr>\n",
       "  </tbody>\n",
       "</table>\n",
       "</div>"
      ],
      "text/plain": [
       "              Datetime  Temperature  Humidity  WindSpeed  GeneralDiffuseFlows  \\\n",
       "0  2017-03-01 16:40:00        21.33     55.91      0.080              387.400   \n",
       "1  2017-07-27 06:30:00        23.10     48.58      4.908               10.450   \n",
       "2  2017-10-11 19:00:00        23.10     59.82      0.084                0.446   \n",
       "3  2017-02-10 06:50:00        12.25     80.80      4.916                0.051   \n",
       "4  2017-03-06 16:00:00        15.62     59.38      0.075              533.400   \n",
       "\n",
       "   DiffuseFlows  \n",
       "0       427.300  \n",
       "1         8.630  \n",
       "2         0.322  \n",
       "3         0.111  \n",
       "4       579.900  "
      ]
     },
     "execution_count": 192,
     "metadata": {},
     "output_type": "execute_result"
    }
   ],
   "source": [
    "data1 = pd.read_csv('power_consumption_g1_feat.csv')\n",
    "data1.head(5)"
   ]
  },
  {
   "cell_type": "code",
   "execution_count": 193,
   "id": "8362879f-f213-4398-a29c-166bdef9af5b",
   "metadata": {},
   "outputs": [
    {
     "data": {
      "text/html": [
       "<div>\n",
       "<style scoped>\n",
       "    .dataframe tbody tr th:only-of-type {\n",
       "        vertical-align: middle;\n",
       "    }\n",
       "\n",
       "    .dataframe tbody tr th {\n",
       "        vertical-align: top;\n",
       "    }\n",
       "\n",
       "    .dataframe thead th {\n",
       "        text-align: right;\n",
       "    }\n",
       "</style>\n",
       "<table border=\"1\" class=\"dataframe\">\n",
       "  <thead>\n",
       "    <tr style=\"text-align: right;\">\n",
       "      <th></th>\n",
       "      <th>Datetime</th>\n",
       "      <th>PowerConsumption</th>\n",
       "    </tr>\n",
       "  </thead>\n",
       "  <tbody>\n",
       "    <tr>\n",
       "      <th>0</th>\n",
       "      <td>2017-10-04 02:20:00</td>\n",
       "      <td>26802.27571</td>\n",
       "    </tr>\n",
       "    <tr>\n",
       "      <th>1</th>\n",
       "      <td>2017-05-28 13:20:00</td>\n",
       "      <td>32898.09836</td>\n",
       "    </tr>\n",
       "    <tr>\n",
       "      <th>2</th>\n",
       "      <td>2017-03-15 06:00:00</td>\n",
       "      <td>22304.68085</td>\n",
       "    </tr>\n",
       "    <tr>\n",
       "      <th>3</th>\n",
       "      <td>2017-10-31 11:40:00</td>\n",
       "      <td>32316.49891</td>\n",
       "    </tr>\n",
       "    <tr>\n",
       "      <th>4</th>\n",
       "      <td>2017-04-20 02:50:00</td>\n",
       "      <td>23982.43272</td>\n",
       "    </tr>\n",
       "  </tbody>\n",
       "</table>\n",
       "</div>"
      ],
      "text/plain": [
       "              Datetime  PowerConsumption\n",
       "0  2017-10-04 02:20:00       26802.27571\n",
       "1  2017-05-28 13:20:00       32898.09836\n",
       "2  2017-03-15 06:00:00       22304.68085\n",
       "3  2017-10-31 11:40:00       32316.49891\n",
       "4  2017-04-20 02:50:00       23982.43272"
      ]
     },
     "execution_count": 193,
     "metadata": {},
     "output_type": "execute_result"
    }
   ],
   "source": [
    "data2 = pd.read_csv('power_consumption_g1.csv')\n",
    "data2.head(5)"
   ]
  },
  {
   "cell_type": "code",
   "execution_count": 194,
   "id": "ede2e81a-2aca-4bef-bf15-6304ff6e6d3b",
   "metadata": {},
   "outputs": [],
   "source": [
    "data1['Datetime'] = pd.to_datetime(data1['Datetime'])\n",
    "data2['Datetime'] = pd.to_datetime(data2['Datetime'])"
   ]
  },
  {
   "cell_type": "code",
   "execution_count": 195,
   "id": "78a95e41-fdec-48f7-a91c-ea8d76b942bd",
   "metadata": {},
   "outputs": [],
   "source": [
    "data1.set_index(keys=[\"Datetime\"], inplace=True)\n",
    "data2.set_index(keys=[\"Datetime\"], inplace=True)"
   ]
  },
  {
   "cell_type": "code",
   "execution_count": 196,
   "id": "bed930a4-57f4-4f09-ba77-73cea7178940",
   "metadata": {},
   "outputs": [],
   "source": [
    "data1.sort_index(inplace=True)\n",
    "data2.sort_index(inplace=True)"
   ]
  },
  {
   "cell_type": "code",
   "execution_count": 197,
   "id": "2f1ce123-bf14-4735-9688-5281bfff4684",
   "metadata": {},
   "outputs": [
    {
     "data": {
      "text/html": [
       "<div>\n",
       "<style scoped>\n",
       "    .dataframe tbody tr th:only-of-type {\n",
       "        vertical-align: middle;\n",
       "    }\n",
       "\n",
       "    .dataframe tbody tr th {\n",
       "        vertical-align: top;\n",
       "    }\n",
       "\n",
       "    .dataframe thead th {\n",
       "        text-align: right;\n",
       "    }\n",
       "</style>\n",
       "<table border=\"1\" class=\"dataframe\">\n",
       "  <thead>\n",
       "    <tr style=\"text-align: right;\">\n",
       "      <th></th>\n",
       "      <th>Temperature</th>\n",
       "      <th>Humidity</th>\n",
       "      <th>WindSpeed</th>\n",
       "      <th>GeneralDiffuseFlows</th>\n",
       "      <th>DiffuseFlows</th>\n",
       "      <th>PowerConsumption</th>\n",
       "    </tr>\n",
       "    <tr>\n",
       "      <th>Datetime</th>\n",
       "      <th></th>\n",
       "      <th></th>\n",
       "      <th></th>\n",
       "      <th></th>\n",
       "      <th></th>\n",
       "      <th></th>\n",
       "    </tr>\n",
       "  </thead>\n",
       "  <tbody>\n",
       "    <tr>\n",
       "      <th>2017-01-01 00:00:00</th>\n",
       "      <td>6.559</td>\n",
       "      <td>73.8</td>\n",
       "      <td>0.083</td>\n",
       "      <td>0.051</td>\n",
       "      <td>0.119</td>\n",
       "      <td>34055.69620</td>\n",
       "    </tr>\n",
       "    <tr>\n",
       "      <th>2017-01-01 00:10:00</th>\n",
       "      <td>6.414</td>\n",
       "      <td>74.5</td>\n",
       "      <td>0.083</td>\n",
       "      <td>0.070</td>\n",
       "      <td>0.085</td>\n",
       "      <td>29814.68354</td>\n",
       "    </tr>\n",
       "    <tr>\n",
       "      <th>2017-01-01 00:20:00</th>\n",
       "      <td>6.313</td>\n",
       "      <td>74.5</td>\n",
       "      <td>0.080</td>\n",
       "      <td>0.062</td>\n",
       "      <td>0.100</td>\n",
       "      <td>29128.10127</td>\n",
       "    </tr>\n",
       "    <tr>\n",
       "      <th>2017-01-01 00:30:00</th>\n",
       "      <td>6.121</td>\n",
       "      <td>75.0</td>\n",
       "      <td>0.083</td>\n",
       "      <td>0.091</td>\n",
       "      <td>0.096</td>\n",
       "      <td>28228.86076</td>\n",
       "    </tr>\n",
       "    <tr>\n",
       "      <th>2017-01-01 00:40:00</th>\n",
       "      <td>5.921</td>\n",
       "      <td>75.7</td>\n",
       "      <td>0.081</td>\n",
       "      <td>0.048</td>\n",
       "      <td>0.085</td>\n",
       "      <td>27335.69620</td>\n",
       "    </tr>\n",
       "  </tbody>\n",
       "</table>\n",
       "</div>"
      ],
      "text/plain": [
       "                     Temperature  Humidity  WindSpeed  GeneralDiffuseFlows  \\\n",
       "Datetime                                                                     \n",
       "2017-01-01 00:00:00        6.559      73.8      0.083                0.051   \n",
       "2017-01-01 00:10:00        6.414      74.5      0.083                0.070   \n",
       "2017-01-01 00:20:00        6.313      74.5      0.080                0.062   \n",
       "2017-01-01 00:30:00        6.121      75.0      0.083                0.091   \n",
       "2017-01-01 00:40:00        5.921      75.7      0.081                0.048   \n",
       "\n",
       "                     DiffuseFlows  PowerConsumption  \n",
       "Datetime                                             \n",
       "2017-01-01 00:00:00         0.119       34055.69620  \n",
       "2017-01-01 00:10:00         0.085       29814.68354  \n",
       "2017-01-01 00:20:00         0.100       29128.10127  \n",
       "2017-01-01 00:30:00         0.096       28228.86076  \n",
       "2017-01-01 00:40:00         0.085       27335.69620  "
      ]
     },
     "execution_count": 197,
     "metadata": {},
     "output_type": "execute_result"
    }
   ],
   "source": [
    "data = pd.merge(left=data1, right=data2, right_index=True, left_index=True)\n",
    "data.head(5)"
   ]
  },
  {
   "cell_type": "code",
   "execution_count": 198,
   "id": "633f13e7-c865-4ae2-87f5-23b4d0422483",
   "metadata": {},
   "outputs": [],
   "source": [
    "#vizuelizacija "
   ]
  },
  {
   "cell_type": "code",
   "execution_count": 199,
   "id": "04527d5c-cb12-454b-8181-b558420e34b1",
   "metadata": {},
   "outputs": [
    {
     "data": {
      "text/plain": [
       "Temperature            559\n",
       "Humidity               499\n",
       "WindSpeed              529\n",
       "GeneralDiffuseFlows    524\n",
       "DiffuseFlows           505\n",
       "PowerConsumption         0\n",
       "dtype: int64"
      ]
     },
     "execution_count": 199,
     "metadata": {},
     "output_type": "execute_result"
    }
   ],
   "source": [
    "data.isnull().sum()"
   ]
  },
  {
   "cell_type": "code",
   "execution_count": 200,
   "id": "8f6ed326-0d15-4435-801c-e7936c581d7d",
   "metadata": {},
   "outputs": [
    {
     "data": {
      "text/html": [
       "<div>\n",
       "<style scoped>\n",
       "    .dataframe tbody tr th:only-of-type {\n",
       "        vertical-align: middle;\n",
       "    }\n",
       "\n",
       "    .dataframe tbody tr th {\n",
       "        vertical-align: top;\n",
       "    }\n",
       "\n",
       "    .dataframe thead th {\n",
       "        text-align: right;\n",
       "    }\n",
       "</style>\n",
       "<table border=\"1\" class=\"dataframe\">\n",
       "  <thead>\n",
       "    <tr style=\"text-align: right;\">\n",
       "      <th></th>\n",
       "      <th>Temperature</th>\n",
       "      <th>Humidity</th>\n",
       "      <th>WindSpeed</th>\n",
       "      <th>GeneralDiffuseFlows</th>\n",
       "      <th>DiffuseFlows</th>\n",
       "      <th>PowerConsumption</th>\n",
       "    </tr>\n",
       "    <tr>\n",
       "      <th>Datetime</th>\n",
       "      <th></th>\n",
       "      <th></th>\n",
       "      <th></th>\n",
       "      <th></th>\n",
       "      <th></th>\n",
       "      <th></th>\n",
       "    </tr>\n",
       "  </thead>\n",
       "  <tbody>\n",
       "    <tr>\n",
       "      <th>2017-12-30 23:10:00</th>\n",
       "      <td>7.010</td>\n",
       "      <td>72.4</td>\n",
       "      <td>0.080</td>\n",
       "      <td>NaN</td>\n",
       "      <td>0.096</td>\n",
       "      <td>31160.45627</td>\n",
       "    </tr>\n",
       "    <tr>\n",
       "      <th>2017-12-30 23:20:00</th>\n",
       "      <td>6.947</td>\n",
       "      <td>72.6</td>\n",
       "      <td>0.082</td>\n",
       "      <td>0.051</td>\n",
       "      <td>0.093</td>\n",
       "      <td>30430.41825</td>\n",
       "    </tr>\n",
       "    <tr>\n",
       "      <th>2017-12-30 23:30:00</th>\n",
       "      <td>6.900</td>\n",
       "      <td>72.8</td>\n",
       "      <td>0.086</td>\n",
       "      <td>0.084</td>\n",
       "      <td>0.074</td>\n",
       "      <td>29590.87452</td>\n",
       "    </tr>\n",
       "    <tr>\n",
       "      <th>2017-12-30 23:40:00</th>\n",
       "      <td>6.758</td>\n",
       "      <td>73.0</td>\n",
       "      <td>0.080</td>\n",
       "      <td>0.066</td>\n",
       "      <td>0.089</td>\n",
       "      <td>28958.17490</td>\n",
       "    </tr>\n",
       "    <tr>\n",
       "      <th>2017-12-30 23:50:00</th>\n",
       "      <td>6.580</td>\n",
       "      <td>74.1</td>\n",
       "      <td>0.081</td>\n",
       "      <td>0.062</td>\n",
       "      <td>0.111</td>\n",
       "      <td>28349.80989</td>\n",
       "    </tr>\n",
       "  </tbody>\n",
       "</table>\n",
       "</div>"
      ],
      "text/plain": [
       "                     Temperature  Humidity  WindSpeed  GeneralDiffuseFlows  \\\n",
       "Datetime                                                                     \n",
       "2017-12-30 23:10:00        7.010      72.4      0.080                  NaN   \n",
       "2017-12-30 23:20:00        6.947      72.6      0.082                0.051   \n",
       "2017-12-30 23:30:00        6.900      72.8      0.086                0.084   \n",
       "2017-12-30 23:40:00        6.758      73.0      0.080                0.066   \n",
       "2017-12-30 23:50:00        6.580      74.1      0.081                0.062   \n",
       "\n",
       "                     DiffuseFlows  PowerConsumption  \n",
       "Datetime                                             \n",
       "2017-12-30 23:10:00         0.096       31160.45627  \n",
       "2017-12-30 23:20:00         0.093       30430.41825  \n",
       "2017-12-30 23:30:00         0.074       29590.87452  \n",
       "2017-12-30 23:40:00         0.089       28958.17490  \n",
       "2017-12-30 23:50:00         0.111       28349.80989  "
      ]
     },
     "execution_count": 200,
     "metadata": {},
     "output_type": "execute_result"
    }
   ],
   "source": [
    "data.tail()"
   ]
  },
  {
   "cell_type": "code",
   "execution_count": 201,
   "id": "aa1b52a9-03b3-4720-95c7-2799b27860da",
   "metadata": {},
   "outputs": [],
   "source": [
    "#na sredina se , se spravuvame so interpolacija\n",
    "features_to_interpolate = ['Temperature','Humidity','WindSpeed','GeneralDiffuseFlows','DiffuseFlows','DiffuseFlows']\n",
    "for feature in features_to_interpolate:\n",
    "    data[feature] = data[feature].interpolate(method=\"linear\")"
   ]
  },
  {
   "cell_type": "code",
   "execution_count": 202,
   "id": "4f772242-9a0b-40c4-9c32-81c00ac87223",
   "metadata": {},
   "outputs": [
    {
     "data": {
      "text/plain": [
       "Temperature            0\n",
       "Humidity               0\n",
       "WindSpeed              0\n",
       "GeneralDiffuseFlows    0\n",
       "DiffuseFlows           0\n",
       "PowerConsumption       0\n",
       "dtype: int64"
      ]
     },
     "execution_count": 202,
     "metadata": {},
     "output_type": "execute_result"
    }
   ],
   "source": [
    "data.isnull().sum()"
   ]
  },
  {
   "cell_type": "code",
   "execution_count": 203,
   "id": "4269581c-54c6-4f65-b23b-afe5de8e4b33",
   "metadata": {},
   "outputs": [],
   "source": [
    "#Grupirame vo interval od 30 min"
   ]
  },
  {
   "cell_type": "code",
   "execution_count": 204,
   "id": "d60f3e7e-3ab9-497d-b1d2-a91dd0a3347b",
   "metadata": {},
   "outputs": [
    {
     "data": {
      "text/html": [
       "<div>\n",
       "<style scoped>\n",
       "    .dataframe tbody tr th:only-of-type {\n",
       "        vertical-align: middle;\n",
       "    }\n",
       "\n",
       "    .dataframe tbody tr th {\n",
       "        vertical-align: top;\n",
       "    }\n",
       "\n",
       "    .dataframe thead th {\n",
       "        text-align: right;\n",
       "    }\n",
       "</style>\n",
       "<table border=\"1\" class=\"dataframe\">\n",
       "  <thead>\n",
       "    <tr style=\"text-align: right;\">\n",
       "      <th></th>\n",
       "      <th>Temperature</th>\n",
       "      <th>Humidity</th>\n",
       "      <th>WindSpeed</th>\n",
       "      <th>GeneralDiffuseFlows</th>\n",
       "      <th>DiffuseFlows</th>\n",
       "      <th>PowerConsumption</th>\n",
       "    </tr>\n",
       "    <tr>\n",
       "      <th>Datetime</th>\n",
       "      <th></th>\n",
       "      <th></th>\n",
       "      <th></th>\n",
       "      <th></th>\n",
       "      <th></th>\n",
       "      <th></th>\n",
       "    </tr>\n",
       "  </thead>\n",
       "  <tbody>\n",
       "    <tr>\n",
       "      <th>2017-01-01 00:00:00</th>\n",
       "      <td>6.428667</td>\n",
       "      <td>74.266667</td>\n",
       "      <td>0.082000</td>\n",
       "      <td>0.061000</td>\n",
       "      <td>0.101333</td>\n",
       "      <td>30999.493670</td>\n",
       "    </tr>\n",
       "    <tr>\n",
       "      <th>2017-01-01 00:30:00</th>\n",
       "      <td>5.941000</td>\n",
       "      <td>75.866667</td>\n",
       "      <td>0.081667</td>\n",
       "      <td>0.066000</td>\n",
       "      <td>0.096333</td>\n",
       "      <td>27396.455697</td>\n",
       "    </tr>\n",
       "    <tr>\n",
       "      <th>2017-01-01 01:00:00</th>\n",
       "      <td>5.605000</td>\n",
       "      <td>77.900000</td>\n",
       "      <td>0.082000</td>\n",
       "      <td>0.056333</td>\n",
       "      <td>0.110000</td>\n",
       "      <td>25407.594937</td>\n",
       "    </tr>\n",
       "    <tr>\n",
       "      <th>2017-01-01 01:30:00</th>\n",
       "      <td>5.492667</td>\n",
       "      <td>77.166667</td>\n",
       "      <td>0.082000</td>\n",
       "      <td>0.057333</td>\n",
       "      <td>0.115000</td>\n",
       "      <td>23906.835443</td>\n",
       "    </tr>\n",
       "    <tr>\n",
       "      <th>2017-01-01 02:00:00</th>\n",
       "      <td>5.000667</td>\n",
       "      <td>78.766667</td>\n",
       "      <td>0.082667</td>\n",
       "      <td>0.065000</td>\n",
       "      <td>0.127333</td>\n",
       "      <td>22474.936707</td>\n",
       "    </tr>\n",
       "    <tr>\n",
       "      <th>...</th>\n",
       "      <td>...</td>\n",
       "      <td>...</td>\n",
       "      <td>...</td>\n",
       "      <td>...</td>\n",
       "      <td>...</td>\n",
       "      <td>...</td>\n",
       "    </tr>\n",
       "    <tr>\n",
       "      <th>2017-12-30 21:30:00</th>\n",
       "      <td>7.913333</td>\n",
       "      <td>70.343333</td>\n",
       "      <td>0.081667</td>\n",
       "      <td>0.069333</td>\n",
       "      <td>0.087667</td>\n",
       "      <td>34786.311787</td>\n",
       "    </tr>\n",
       "    <tr>\n",
       "      <th>2017-12-30 22:00:00</th>\n",
       "      <td>7.793333</td>\n",
       "      <td>69.563333</td>\n",
       "      <td>0.081000</td>\n",
       "      <td>0.062333</td>\n",
       "      <td>0.108667</td>\n",
       "      <td>34660.583017</td>\n",
       "    </tr>\n",
       "    <tr>\n",
       "      <th>2017-12-30 22:30:00</th>\n",
       "      <td>7.403333</td>\n",
       "      <td>71.066667</td>\n",
       "      <td>0.082667</td>\n",
       "      <td>0.055000</td>\n",
       "      <td>0.107667</td>\n",
       "      <td>33326.235743</td>\n",
       "    </tr>\n",
       "    <tr>\n",
       "      <th>2017-12-30 23:00:00</th>\n",
       "      <td>7.009000</td>\n",
       "      <td>72.500000</td>\n",
       "      <td>0.080667</td>\n",
       "      <td>0.055000</td>\n",
       "      <td>0.094000</td>\n",
       "      <td>31249.683140</td>\n",
       "    </tr>\n",
       "    <tr>\n",
       "      <th>2017-12-30 23:30:00</th>\n",
       "      <td>6.746000</td>\n",
       "      <td>73.300000</td>\n",
       "      <td>0.082333</td>\n",
       "      <td>0.070667</td>\n",
       "      <td>0.091333</td>\n",
       "      <td>28966.286437</td>\n",
       "    </tr>\n",
       "  </tbody>\n",
       "</table>\n",
       "<p>17472 rows × 6 columns</p>\n",
       "</div>"
      ],
      "text/plain": [
       "                     Temperature   Humidity  WindSpeed  GeneralDiffuseFlows  \\\n",
       "Datetime                                                                      \n",
       "2017-01-01 00:00:00     6.428667  74.266667   0.082000             0.061000   \n",
       "2017-01-01 00:30:00     5.941000  75.866667   0.081667             0.066000   \n",
       "2017-01-01 01:00:00     5.605000  77.900000   0.082000             0.056333   \n",
       "2017-01-01 01:30:00     5.492667  77.166667   0.082000             0.057333   \n",
       "2017-01-01 02:00:00     5.000667  78.766667   0.082667             0.065000   \n",
       "...                          ...        ...        ...                  ...   \n",
       "2017-12-30 21:30:00     7.913333  70.343333   0.081667             0.069333   \n",
       "2017-12-30 22:00:00     7.793333  69.563333   0.081000             0.062333   \n",
       "2017-12-30 22:30:00     7.403333  71.066667   0.082667             0.055000   \n",
       "2017-12-30 23:00:00     7.009000  72.500000   0.080667             0.055000   \n",
       "2017-12-30 23:30:00     6.746000  73.300000   0.082333             0.070667   \n",
       "\n",
       "                     DiffuseFlows  PowerConsumption  \n",
       "Datetime                                             \n",
       "2017-01-01 00:00:00      0.101333      30999.493670  \n",
       "2017-01-01 00:30:00      0.096333      27396.455697  \n",
       "2017-01-01 01:00:00      0.110000      25407.594937  \n",
       "2017-01-01 01:30:00      0.115000      23906.835443  \n",
       "2017-01-01 02:00:00      0.127333      22474.936707  \n",
       "...                           ...               ...  \n",
       "2017-12-30 21:30:00      0.087667      34786.311787  \n",
       "2017-12-30 22:00:00      0.108667      34660.583017  \n",
       "2017-12-30 22:30:00      0.107667      33326.235743  \n",
       "2017-12-30 23:00:00      0.094000      31249.683140  \n",
       "2017-12-30 23:30:00      0.091333      28966.286437  \n",
       "\n",
       "[17472 rows x 6 columns]"
      ]
     },
     "execution_count": 204,
     "metadata": {},
     "output_type": "execute_result"
    }
   ],
   "source": [
    "data = data.groupby(pd.Grouper(freq=\"30min\")).mean()\n",
    "data"
   ]
  },
  {
   "cell_type": "code",
   "execution_count": 205,
   "id": "b24f7ca6-a3c4-4863-a4c8-62b943b01b81",
   "metadata": {},
   "outputs": [
    {
     "data": {
      "text/plain": [
       "<Axes: >"
      ]
     },
     "execution_count": 205,
     "metadata": {},
     "output_type": "execute_result"
    },
    {
     "data": {
      "image/png": "[encoded data removed]",
      "text/plain": [
       "<Figure size 2000x2000 with 2 Axes>"
      ]
     },
     "metadata": {},
     "output_type": "display_data"
    }
   ],
   "source": [
    "plt.figure(figsize=(20,20))\n",
    "sns.heatmap(data.corr(), annot=True)"
   ]
  },
  {
   "cell_type": "code",
   "execution_count": 206,
   "id": "a0dad0eb-3486-4c8c-bf28-9dacf45504f5",
   "metadata": {},
   "outputs": [],
   "source": [
    "#Create lags za 5 dena"
   ]
  },
  {
   "cell_type": "code",
   "execution_count": 207,
   "id": "61dcaa4f-e5f3-4d83-a99b-dcdfa71a8853",
   "metadata": {},
   "outputs": [
    {
     "name": "stdout",
     "output_type": "stream",
     "text": [
      "<class 'pandas.core.frame.DataFrame'>\n",
      "DatetimeIndex: 17472 entries, 2017-01-01 00:00:00 to 2017-12-30 23:30:00\n",
      "Freq: 30min\n",
      "Data columns (total 6 columns):\n",
      " #   Column               Non-Null Count  Dtype  \n",
      "---  ------               --------------  -----  \n",
      " 0   Temperature          17472 non-null  float64\n",
      " 1   Humidity             17472 non-null  float64\n",
      " 2   WindSpeed            17472 non-null  float64\n",
      " 3   GeneralDiffuseFlows  17472 non-null  float64\n",
      " 4   DiffuseFlows         17472 non-null  float64\n",
      " 5   PowerConsumption     17472 non-null  float64\n",
      "dtypes: float64(6)\n",
      "memory usage: 955.5 KB\n"
     ]
    }
   ],
   "source": [
    "data.info()"
   ]
  },
  {
   "cell_type": "code",
   "execution_count": 208,
   "id": "b8d194f1-1159-4210-9ce5-805a5d5bbafe",
   "metadata": {},
   "outputs": [],
   "source": [
    "columns_for_lags=data.columns\n",
    "for feature in columns_for_lags:\n",
    "    for lag in range(1,6):\n",
    "        data[f'{feature}_lag_{lag}']=data[feature].shift()"
   ]
  },
  {
   "cell_type": "code",
   "execution_count": 209,
   "id": "7b12c661-9ed7-4fff-8fda-a7a6e1ac3a89",
   "metadata": {},
   "outputs": [],
   "source": [
    "data=data.dropna()"
   ]
  },
  {
   "cell_type": "code",
   "execution_count": 210,
   "id": "fb6cc43c-4ec1-45aa-ada9-e688e6d4790b",
   "metadata": {},
   "outputs": [
    {
     "data": {
      "text/html": [
       "<div>\n",
       "<style scoped>\n",
       "    .dataframe tbody tr th:only-of-type {\n",
       "        vertical-align: middle;\n",
       "    }\n",
       "\n",
       "    .dataframe tbody tr th {\n",
       "        vertical-align: top;\n",
       "    }\n",
       "\n",
       "    .dataframe thead th {\n",
       "        text-align: right;\n",
       "    }\n",
       "</style>\n",
       "<table border=\"1\" class=\"dataframe\">\n",
       "  <thead>\n",
       "    <tr style=\"text-align: right;\">\n",
       "      <th></th>\n",
       "      <th>Temperature</th>\n",
       "      <th>Humidity</th>\n",
       "      <th>WindSpeed</th>\n",
       "      <th>GeneralDiffuseFlows</th>\n",
       "      <th>DiffuseFlows</th>\n",
       "      <th>PowerConsumption</th>\n",
       "      <th>Temperature_lag_1</th>\n",
       "      <th>Temperature_lag_2</th>\n",
       "      <th>Temperature_lag_3</th>\n",
       "      <th>Temperature_lag_4</th>\n",
       "      <th>...</th>\n",
       "      <th>DiffuseFlows_lag_1</th>\n",
       "      <th>DiffuseFlows_lag_2</th>\n",
       "      <th>DiffuseFlows_lag_3</th>\n",
       "      <th>DiffuseFlows_lag_4</th>\n",
       "      <th>DiffuseFlows_lag_5</th>\n",
       "      <th>PowerConsumption_lag_1</th>\n",
       "      <th>PowerConsumption_lag_2</th>\n",
       "      <th>PowerConsumption_lag_3</th>\n",
       "      <th>PowerConsumption_lag_4</th>\n",
       "      <th>PowerConsumption_lag_5</th>\n",
       "    </tr>\n",
       "    <tr>\n",
       "      <th>Datetime</th>\n",
       "      <th></th>\n",
       "      <th></th>\n",
       "      <th></th>\n",
       "      <th></th>\n",
       "      <th></th>\n",
       "      <th></th>\n",
       "      <th></th>\n",
       "      <th></th>\n",
       "      <th></th>\n",
       "      <th></th>\n",
       "      <th></th>\n",
       "      <th></th>\n",
       "      <th></th>\n",
       "      <th></th>\n",
       "      <th></th>\n",
       "      <th></th>\n",
       "      <th></th>\n",
       "      <th></th>\n",
       "      <th></th>\n",
       "      <th></th>\n",
       "      <th></th>\n",
       "    </tr>\n",
       "  </thead>\n",
       "  <tbody>\n",
       "    <tr>\n",
       "      <th>2017-01-01 00:30:00</th>\n",
       "      <td>5.941000</td>\n",
       "      <td>75.866667</td>\n",
       "      <td>0.081667</td>\n",
       "      <td>0.066000</td>\n",
       "      <td>0.096333</td>\n",
       "      <td>27396.455697</td>\n",
       "      <td>6.428667</td>\n",
       "      <td>6.428667</td>\n",
       "      <td>6.428667</td>\n",
       "      <td>6.428667</td>\n",
       "      <td>...</td>\n",
       "      <td>0.101333</td>\n",
       "      <td>0.101333</td>\n",
       "      <td>0.101333</td>\n",
       "      <td>0.101333</td>\n",
       "      <td>0.101333</td>\n",
       "      <td>30999.493670</td>\n",
       "      <td>30999.493670</td>\n",
       "      <td>30999.493670</td>\n",
       "      <td>30999.493670</td>\n",
       "      <td>30999.493670</td>\n",
       "    </tr>\n",
       "    <tr>\n",
       "      <th>2017-01-01 01:00:00</th>\n",
       "      <td>5.605000</td>\n",
       "      <td>77.900000</td>\n",
       "      <td>0.082000</td>\n",
       "      <td>0.056333</td>\n",
       "      <td>0.110000</td>\n",
       "      <td>25407.594937</td>\n",
       "      <td>5.941000</td>\n",
       "      <td>5.941000</td>\n",
       "      <td>5.941000</td>\n",
       "      <td>5.941000</td>\n",
       "      <td>...</td>\n",
       "      <td>0.096333</td>\n",
       "      <td>0.096333</td>\n",
       "      <td>0.096333</td>\n",
       "      <td>0.096333</td>\n",
       "      <td>0.096333</td>\n",
       "      <td>27396.455697</td>\n",
       "      <td>27396.455697</td>\n",
       "      <td>27396.455697</td>\n",
       "      <td>27396.455697</td>\n",
       "      <td>27396.455697</td>\n",
       "    </tr>\n",
       "    <tr>\n",
       "      <th>2017-01-01 01:30:00</th>\n",
       "      <td>5.492667</td>\n",
       "      <td>77.166667</td>\n",
       "      <td>0.082000</td>\n",
       "      <td>0.057333</td>\n",
       "      <td>0.115000</td>\n",
       "      <td>23906.835443</td>\n",
       "      <td>5.605000</td>\n",
       "      <td>5.605000</td>\n",
       "      <td>5.605000</td>\n",
       "      <td>5.605000</td>\n",
       "      <td>...</td>\n",
       "      <td>0.110000</td>\n",
       "      <td>0.110000</td>\n",
       "      <td>0.110000</td>\n",
       "      <td>0.110000</td>\n",
       "      <td>0.110000</td>\n",
       "      <td>25407.594937</td>\n",
       "      <td>25407.594937</td>\n",
       "      <td>25407.594937</td>\n",
       "      <td>25407.594937</td>\n",
       "      <td>25407.594937</td>\n",
       "    </tr>\n",
       "    <tr>\n",
       "      <th>2017-01-01 02:00:00</th>\n",
       "      <td>5.000667</td>\n",
       "      <td>78.766667</td>\n",
       "      <td>0.082667</td>\n",
       "      <td>0.065000</td>\n",
       "      <td>0.127333</td>\n",
       "      <td>22474.936707</td>\n",
       "      <td>5.492667</td>\n",
       "      <td>5.492667</td>\n",
       "      <td>5.492667</td>\n",
       "      <td>5.492667</td>\n",
       "      <td>...</td>\n",
       "      <td>0.115000</td>\n",
       "      <td>0.115000</td>\n",
       "      <td>0.115000</td>\n",
       "      <td>0.115000</td>\n",
       "      <td>0.115000</td>\n",
       "      <td>23906.835443</td>\n",
       "      <td>23906.835443</td>\n",
       "      <td>23906.835443</td>\n",
       "      <td>23906.835443</td>\n",
       "      <td>23906.835443</td>\n",
       "    </tr>\n",
       "    <tr>\n",
       "      <th>2017-01-01 02:30:00</th>\n",
       "      <td>5.108000</td>\n",
       "      <td>79.100000</td>\n",
       "      <td>0.082000</td>\n",
       "      <td>0.061000</td>\n",
       "      <td>0.131000</td>\n",
       "      <td>21691.139240</td>\n",
       "      <td>5.000667</td>\n",
       "      <td>5.000667</td>\n",
       "      <td>5.000667</td>\n",
       "      <td>5.000667</td>\n",
       "      <td>...</td>\n",
       "      <td>0.127333</td>\n",
       "      <td>0.127333</td>\n",
       "      <td>0.127333</td>\n",
       "      <td>0.127333</td>\n",
       "      <td>0.127333</td>\n",
       "      <td>22474.936707</td>\n",
       "      <td>22474.936707</td>\n",
       "      <td>22474.936707</td>\n",
       "      <td>22474.936707</td>\n",
       "      <td>22474.936707</td>\n",
       "    </tr>\n",
       "  </tbody>\n",
       "</table>\n",
       "<p>5 rows × 36 columns</p>\n",
       "</div>"
      ],
      "text/plain": [
       "                     Temperature   Humidity  WindSpeed  GeneralDiffuseFlows  \\\n",
       "Datetime                                                                      \n",
       "2017-01-01 00:30:00     5.941000  75.866667   0.081667             0.066000   \n",
       "2017-01-01 01:00:00     5.605000  77.900000   0.082000             0.056333   \n",
       "2017-01-01 01:30:00     5.492667  77.166667   0.082000             0.057333   \n",
       "2017-01-01 02:00:00     5.000667  78.766667   0.082667             0.065000   \n",
       "2017-01-01 02:30:00     5.108000  79.100000   0.082000             0.061000   \n",
       "\n",
       "                     DiffuseFlows  PowerConsumption  Temperature_lag_1  \\\n",
       "Datetime                                                                 \n",
       "2017-01-01 00:30:00      0.096333      27396.455697           6.428667   \n",
       "2017-01-01 01:00:00      0.110000      25407.594937           5.941000   \n",
       "2017-01-01 01:30:00      0.115000      23906.835443           5.605000   \n",
       "2017-01-01 02:00:00      0.127333      22474.936707           5.492667   \n",
       "2017-01-01 02:30:00      0.131000      21691.139240           5.000667   \n",
       "\n",
       "                     Temperature_lag_2  Temperature_lag_3  Temperature_lag_4  \\\n",
       "Datetime                                                                       \n",
       "2017-01-01 00:30:00           6.428667           6.428667           6.428667   \n",
       "2017-01-01 01:00:00           5.941000           5.941000           5.941000   \n",
       "2017-01-01 01:30:00           5.605000           5.605000           5.605000   \n",
       "2017-01-01 02:00:00           5.492667           5.492667           5.492667   \n",
       "2017-01-01 02:30:00           5.000667           5.000667           5.000667   \n",
       "\n",
       "                     ...  DiffuseFlows_lag_1  DiffuseFlows_lag_2  \\\n",
       "Datetime             ...                                           \n",
       "2017-01-01 00:30:00  ...            0.101333            0.101333   \n",
       "2017-01-01 01:00:00  ...            0.096333            0.096333   \n",
       "2017-01-01 01:30:00  ...            0.110000            0.110000   \n",
       "2017-01-01 02:00:00  ...            0.115000            0.115000   \n",
       "2017-01-01 02:30:00  ...            0.127333            0.127333   \n",
       "\n",
       "                     DiffuseFlows_lag_3  DiffuseFlows_lag_4  \\\n",
       "Datetime                                                      \n",
       "2017-01-01 00:30:00            0.101333            0.101333   \n",
       "2017-01-01 01:00:00            0.096333            0.096333   \n",
       "2017-01-01 01:30:00            0.110000            0.110000   \n",
       "2017-01-01 02:00:00            0.115000            0.115000   \n",
       "2017-01-01 02:30:00            0.127333            0.127333   \n",
       "\n",
       "                     DiffuseFlows_lag_5  PowerConsumption_lag_1  \\\n",
       "Datetime                                                          \n",
       "2017-01-01 00:30:00            0.101333            30999.493670   \n",
       "2017-01-01 01:00:00            0.096333            27396.455697   \n",
       "2017-01-01 01:30:00            0.110000            25407.594937   \n",
       "2017-01-01 02:00:00            0.115000            23906.835443   \n",
       "2017-01-01 02:30:00            0.127333            22474.936707   \n",
       "\n",
       "                     PowerConsumption_lag_2  PowerConsumption_lag_3  \\\n",
       "Datetime                                                              \n",
       "2017-01-01 00:30:00            30999.493670            30999.493670   \n",
       "2017-01-01 01:00:00            27396.455697            27396.455697   \n",
       "2017-01-01 01:30:00            25407.594937            25407.594937   \n",
       "2017-01-01 02:00:00            23906.835443            23906.835443   \n",
       "2017-01-01 02:30:00            22474.936707            22474.936707   \n",
       "\n",
       "                     PowerConsumption_lag_4  PowerConsumption_lag_5  \n",
       "Datetime                                                             \n",
       "2017-01-01 00:30:00            30999.493670            30999.493670  \n",
       "2017-01-01 01:00:00            27396.455697            27396.455697  \n",
       "2017-01-01 01:30:00            25407.594937            25407.594937  \n",
       "2017-01-01 02:00:00            23906.835443            23906.835443  \n",
       "2017-01-01 02:30:00            22474.936707            22474.936707  \n",
       "\n",
       "[5 rows x 36 columns]"
      ]
     },
     "execution_count": 210,
     "metadata": {},
     "output_type": "execute_result"
    }
   ],
   "source": [
    "data.head(5)"
   ]
  },
  {
   "cell_type": "code",
   "execution_count": 211,
   "id": "e681b8a2-96f7-48c0-8d99-99e5b5a0da0d",
   "metadata": {},
   "outputs": [],
   "source": [
    "#BUILD LSTM MODEL"
   ]
  },
  {
   "cell_type": "code",
   "execution_count": 212,
   "id": "8b592b0e-8007-44e8-a706-5995d77973a8",
   "metadata": {},
   "outputs": [],
   "source": [
    "from sklearn.model_selection import train_test_split\n",
    "data_new = data.drop('PowerConsumption',axis=1)\n",
    "X_train,X_test,Y_train,Y_test = train_test_split(data_new,data['PowerConsumption'],test_size=0.2,shuffle=False)"
   ]
  },
  {
   "cell_type": "code",
   "execution_count": 213,
   "id": "7f52d8af-8722-44c5-87f0-a647de7c3978",
   "metadata": {},
   "outputs": [],
   "source": [
    "scaler = MinMaxScaler()\n",
    "X_train = scaler.fit_transform(X_train)\n",
    "X_test = scaler.transform(X_test)"
   ]
  },
  {
   "cell_type": "code",
   "execution_count": 214,
   "id": "ddd8709e-0df7-49e2-a12e-894455f51ca0",
   "metadata": {},
   "outputs": [],
   "source": [
    "Y_train = scaler.fit_transform(Y_train.to_numpy().reshape(-1, 1))"
   ]
  },
  {
   "cell_type": "code",
   "execution_count": 215,
   "id": "7cffb98f-db45-489a-8583-c9e406c2d665",
   "metadata": {},
   "outputs": [],
   "source": [
    "X_train = X_train.reshape(X_train.shape[0], lag, (X_train.shape[1] // lag))\n",
    "X_test = X_test.reshape(X_test.shape[0], lag, (X_test.shape[1] // lag))"
   ]
  },
  {
   "cell_type": "code",
   "execution_count": 216,
   "id": "22a3c493-316f-4561-832d-fd43abb196ae",
   "metadata": {},
   "outputs": [
    {
     "data": {
      "text/plain": [
       "5"
      ]
     },
     "execution_count": 216,
     "metadata": {},
     "output_type": "execute_result"
    }
   ],
   "source": [
    "X_train.shape[1]"
   ]
  },
  {
   "cell_type": "code",
   "execution_count": 217,
   "id": "d86a4896-c4f9-4eae-9022-16bbe739c5ad",
   "metadata": {},
   "outputs": [],
   "source": [
    "from keras.models import Sequential\n",
    "from keras.layers import Input, LSTM, Dense"
   ]
  },
  {
   "cell_type": "code",
   "execution_count": 218,
   "id": "0279012b-1044-414c-afa5-af0019a2db34",
   "metadata": {},
   "outputs": [],
   "source": [
    "model = Sequential([\n",
    "    Input((X_train.shape[1], X_train.shape[2],)),\n",
    "    LSTM(32, activation=\"relu\", return_sequences=True),\n",
    "    LSTM(64, activation=\"relu\"),\n",
    "    Dense(1, activation=\"linear\")\n",
    "])"
   ]
  },
  {
   "cell_type": "code",
   "execution_count": 219,
   "id": "6b4a2f1e-1d93-417b-9448-2b3da39579ac",
   "metadata": {},
   "outputs": [],
   "source": [
    "model.compile(\n",
    "    loss=\"mean_squared_error\",\n",
    "    optimizer=\"adam\",\n",
    "    metrics=[\"mean_squared_error\"],\n",
    ")"
   ]
  },
  {
   "cell_type": "code",
   "execution_count": 220,
   "id": "6e7d4b35-228d-46ed-9108-0bc0733ac226",
   "metadata": {},
   "outputs": [
    {
     "name": "stdout",
     "output_type": "stream",
     "text": [
      "Epoch 1/16\n",
      "\u001b[1m699/699\u001b[0m \u001b[32m━━━━━━━━━━━━━━━━━━━━\u001b[0m\u001b[37m\u001b[0m \u001b[1m6s\u001b[0m 5ms/step - loss: 0.0453 - mean_squared_error: 0.0453 - val_loss: 0.0027 - val_mean_squared_error: 0.0027\n",
      "Epoch 2/16\n",
      "\u001b[1m699/699\u001b[0m \u001b[32m━━━━━━━━━━━━━━━━━━━━\u001b[0m\u001b[37m\u001b[0m \u001b[1m3s\u001b[0m 5ms/step - loss: 0.0031 - mean_squared_error: 0.0031 - val_loss: 0.0025 - val_mean_squared_error: 0.0025\n",
      "Epoch 3/16\n",
      "\u001b[1m699/699\u001b[0m \u001b[32m━━━━━━━━━━━━━━━━━━━━\u001b[0m\u001b[37m\u001b[0m \u001b[1m3s\u001b[0m 5ms/step - loss: 0.0020 - mean_squared_error: 0.0020 - val_loss: 0.0020 - val_mean_squared_error: 0.0020\n",
      "Epoch 4/16\n",
      "\u001b[1m699/699\u001b[0m \u001b[32m━━━━━━━━━━━━━━━━━━━━\u001b[0m\u001b[37m\u001b[0m \u001b[1m3s\u001b[0m 5ms/step - loss: 0.0017 - mean_squared_error: 0.0017 - val_loss: 0.0021 - val_mean_squared_error: 0.0021\n",
      "Epoch 5/16\n",
      "\u001b[1m699/699\u001b[0m \u001b[32m━━━━━━━━━━━━━━━━━━━━\u001b[0m\u001b[37m\u001b[0m \u001b[1m3s\u001b[0m 4ms/step - loss: 0.0016 - mean_squared_error: 0.0016 - val_loss: 0.0019 - val_mean_squared_error: 0.0019\n",
      "Epoch 6/16\n",
      "\u001b[1m699/699\u001b[0m \u001b[32m━━━━━━━━━━━━━━━━━━━━\u001b[0m\u001b[37m\u001b[0m \u001b[1m3s\u001b[0m 5ms/step - loss: 0.0015 - mean_squared_error: 0.0015 - val_loss: 0.0015 - val_mean_squared_error: 0.0015\n",
      "Epoch 7/16\n",
      "\u001b[1m699/699\u001b[0m \u001b[32m━━━━━━━━━━━━━━━━━━━━\u001b[0m\u001b[37m\u001b[0m \u001b[1m3s\u001b[0m 4ms/step - loss: 0.0014 - mean_squared_error: 0.0014 - val_loss: 0.0015 - val_mean_squared_error: 0.0015\n",
      "Epoch 8/16\n",
      "\u001b[1m699/699\u001b[0m \u001b[32m━━━━━━━━━━━━━━━━━━━━\u001b[0m\u001b[37m\u001b[0m \u001b[1m3s\u001b[0m 4ms/step - loss: 0.0013 - mean_squared_error: 0.0013 - val_loss: 0.0013 - val_mean_squared_error: 0.0013\n",
      "Epoch 9/16\n",
      "\u001b[1m699/699\u001b[0m \u001b[32m━━━━━━━━━━━━━━━━━━━━\u001b[0m\u001b[37m\u001b[0m \u001b[1m3s\u001b[0m 4ms/step - loss: 0.0012 - mean_squared_error: 0.0012 - val_loss: 0.0012 - val_mean_squared_error: 0.0012\n",
      "Epoch 10/16\n",
      "\u001b[1m699/699\u001b[0m \u001b[32m━━━━━━━━━━━━━━━━━━━━\u001b[0m\u001b[37m\u001b[0m \u001b[1m3s\u001b[0m 4ms/step - loss: 0.0012 - mean_squared_error: 0.0012 - val_loss: 0.0011 - val_mean_squared_error: 0.0011\n",
      "Epoch 11/16\n",
      "\u001b[1m699/699\u001b[0m \u001b[32m━━━━━━━━━━━━━━━━━━━━\u001b[0m\u001b[37m\u001b[0m \u001b[1m3s\u001b[0m 4ms/step - loss: 0.0012 - mean_squared_error: 0.0012 - val_loss: 0.0011 - val_mean_squared_error: 0.0011\n",
      "Epoch 12/16\n",
      "\u001b[1m699/699\u001b[0m \u001b[32m━━━━━━━━━━━━━━━━━━━━\u001b[0m\u001b[37m\u001b[0m \u001b[1m3s\u001b[0m 4ms/step - loss: 0.0011 - mean_squared_error: 0.0011 - val_loss: 0.0011 - val_mean_squared_error: 0.0011\n",
      "Epoch 13/16\n",
      "\u001b[1m699/699\u001b[0m \u001b[32m━━━━━━━━━━━━━━━━━━━━\u001b[0m\u001b[37m\u001b[0m \u001b[1m3s\u001b[0m 4ms/step - loss: 0.0011 - mean_squared_error: 0.0011 - val_loss: 9.9816e-04 - val_mean_squared_error: 9.9816e-04\n",
      "Epoch 14/16\n",
      "\u001b[1m699/699\u001b[0m \u001b[32m━━━━━━━━━━━━━━━━━━━━\u001b[0m\u001b[37m\u001b[0m \u001b[1m3s\u001b[0m 4ms/step - loss: 0.0011 - mean_squared_error: 0.0011 - val_loss: 9.9433e-04 - val_mean_squared_error: 9.9433e-04\n",
      "Epoch 15/16\n",
      "\u001b[1m699/699\u001b[0m \u001b[32m━━━━━━━━━━━━━━━━━━━━\u001b[0m\u001b[37m\u001b[0m \u001b[1m3s\u001b[0m 4ms/step - loss: 0.0010 - mean_squared_error: 0.0010 - val_loss: 9.8942e-04 - val_mean_squared_error: 9.8942e-04\n",
      "Epoch 16/16\n",
      "\u001b[1m699/699\u001b[0m \u001b[32m━━━━━━━━━━━━━━━━━━━━\u001b[0m\u001b[37m\u001b[0m \u001b[1m3s\u001b[0m 4ms/step - loss: 0.0010 - mean_squared_error: 0.0010 - val_loss: 9.7565e-04 - val_mean_squared_error: 9.7565e-04\n"
     ]
    }
   ],
   "source": [
    "history = model.fit(X_train,Y_train, validation_split=0.2, epochs=16, batch_size=16, shuffle=False)"
   ]
  },
  {
   "cell_type": "code",
   "execution_count": 221,
   "id": "d2a71d67-c998-4d2b-a301-d44982d335e7",
   "metadata": {},
   "outputs": [
    {
     "data": {
      "text/plain": [
       "<Axes: >"
      ]
     },
     "execution_count": 221,
     "metadata": {},
     "output_type": "execute_result"
    },
    {
     "data": {
      "image/png": "[encoded data removed]",
      "text/plain": [
       "<Figure size 640x480 with 1 Axes>"
      ]
     },
     "metadata": {},
     "output_type": "display_data"
    }
   ],
   "source": [
    "sns.lineplot(history.history[\"loss\"], label=\"loss\")\n",
    "sns.lineplot(history.history[\"val_loss\"], label=\"val_loss\")"
   ]
  },
  {
   "cell_type": "code",
   "execution_count": 222,
   "id": "ab8712fe-ecca-46bf-8a07-37b16745f635",
   "metadata": {},
   "outputs": [
    {
     "name": "stdout",
     "output_type": "stream",
     "text": [
      "\u001b[1m110/110\u001b[0m \u001b[32m━━━━━━━━━━━━━━━━━━━━\u001b[0m\u001b[37m\u001b[0m \u001b[1m1s\u001b[0m 4ms/step\n"
     ]
    }
   ],
   "source": [
    "pred_y = model.predict(X_test)"
   ]
  },
  {
   "cell_type": "code",
   "execution_count": 223,
   "id": "2d03a3a4-3b29-430b-9b00-af833d9a1e34",
   "metadata": {},
   "outputs": [],
   "source": [
    "pred_y = scaler.inverse_transform(pred_y)"
   ]
  },
  {
   "cell_type": "code",
   "execution_count": 224,
   "id": "d0fb3205-f9d6-4153-9845-1cfc775bd869",
   "metadata": {},
   "outputs": [
    {
     "data": {
      "text/plain": [
       "0.9464476834993327"
      ]
     },
     "execution_count": 224,
     "metadata": {},
     "output_type": "execute_result"
    }
   ],
   "source": [
    "from sklearn.metrics import r2_score\n",
    "r2_score(Y_test, pred_y)"
   ]
  },
  {
   "cell_type": "code",
   "execution_count": 225,
   "id": "59831830-7bf2-4dd6-8100-f2ef695b414c",
   "metadata": {},
   "outputs": [],
   "source": [
    "#vizuelizacija na target vs prediction values"
   ]
  },
  {
   "cell_type": "code",
   "execution_count": 226,
   "id": "01ae3eae-03ba-4294-8c17-6d5496c40dd7",
   "metadata": {},
   "outputs": [
    {
     "data": {
      "text/plain": [
       "<Axes: xlabel='Datetime'>"
      ]
     },
     "execution_count": 226,
     "metadata": {},
     "output_type": "execute_result"
    },
    {
     "data": {
      "image/png": "[encoded data removed]",
      "text/plain": [
       "<Figure size 640x480 with 1 Axes>"
      ]
     },
     "metadata": {},
     "output_type": "display_data"
    }
   ],
   "source": [
    "sns.lineplot(x=Y_test.index, y=Y_test.values)\n",
    "sns.lineplot(x=Y_test.index, y=pred_y.flatten())"
   ]
  }
 ],
 "metadata": {
  "kernelspec": {
   "display_name": "Python 3 (ipykernel)",
   "language": "python",
   "name": "python3"
  },
  "language_info": {
   "codemirror_mode": {
    "name": "ipython",
    "version": 3
   },
   "file_extension": ".py",
   "mimetype": "text/x-python",
   "name": "python",
   "nbconvert_exporter": "python",
   "pygments_lexer": "ipython3",
   "version": "3.12.7"
  }
 },
 "nbformat": 4,
 "nbformat_minor": 5
}
