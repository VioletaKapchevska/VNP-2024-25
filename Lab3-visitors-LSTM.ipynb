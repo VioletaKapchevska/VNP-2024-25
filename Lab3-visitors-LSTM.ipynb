{
 "cells": [
  {
   "cell_type": "markdown",
   "metadata": {
    "id": "rODb9vHvIEbp"
   },
   "source": [
    "# Requirements"
   ]
  },
  {
   "cell_type": "code",
   "execution_count": 1,
   "metadata": {
    "id": "-rgNa1IOH9KV"
   },
   "outputs": [],
   "source": [
    "import pandas as pd"
   ]
  },
  {
   "cell_type": "code",
   "execution_count": 73,
   "metadata": {
    "id": "U4KmHBd2cdx9"
   },
   "outputs": [],
   "source": [
    "import pandas as pd\n",
    "import numpy as np\n",
    "import matplotlib.pyplot as plt\n",
    "import seaborn as sns\n",
    "import missingno as msno\n",
    "from sklearn.impute import SimpleImputer, KNNImputer\n",
    "from sklearn.preprocessing import MinMaxScaler, LabelEncoder"
   ]
  },
  {
   "cell_type": "markdown",
   "metadata": {
    "id": "KNMMoUiUIW3L"
   },
   "source": [
    "# Laboratory Exercise - Run Mode (8 points)"
   ]
  },
  {
   "cell_type": "markdown",
   "metadata": {
    "id": "_rAh_91OIjeS"
   },
   "source": [
    "## Introduction\n",
    "In this laboratory assignment, the focus is on time series forecasting, specifically targeting the prediction of the current **count of page loads**. Your task involves employing bagging and boosting methods to forecast the **count of page loads**. To accomplish this, you will use data from the preceding three days, consisting of **count of page loads**, **count of unique visits**, **count of first time-visits**, **count of returning visits**, and the current **day**.\n",
    "\n",
    "**Note: You are required to perform this laboratory assignment on your local machine.**"
   ]
  },
  {
   "cell_type": "markdown",
   "metadata": {
    "id": "zBYI-EypaWom"
   },
   "source": [
    "## The Website Visitors Dataset"
   ]
  },
  {
   "cell_type": "markdown",
   "metadata": {
    "id": "IDW_23TIK6iv"
   },
   "source": [
    "## Downloading the Website Visitors Dataset"
   ]
  },
  {
   "cell_type": "code",
   "execution_count": null,
   "metadata": {
    "id": "NNtbofJTIWqK"
   },
   "outputs": [],
   "source": [
    "!gdown 1h1P3NboXKbWNngqgCB1i4bHFRcv7uDJe # Download the dataset."
   ]
  },
  {
   "cell_type": "markdown",
   "metadata": {
    "id": "iAtPoYzAZo1v"
   },
   "source": [
    "## Exploring the Website Visitors Dataset\n",
    "This datatset consists of daily counts of page loads, unique visitors, first-time visitors, and returning visitors for an academic teaching notes website. The dataset contains 2167 rows spanning from September 14, 2014, to August 19, 2020. A visit is defined as a series of hits on one or more pages by the same user on a given day, identified by IP address. Shared IP addresses are considered a single user. A visit is \"unique\" if a hit from the same IP address hasn't occurred within the last 6 hours. Returning visitors are identified by cookies, and the rest are classified as first-time visitors. The unique visitor count is the sum of returning and first-time visitors.\n",
    "\n",
    "The dataset consists of the following columns:\n",
    "- date - date in mm/dd/yyyy format,\n",
    "- day_of_week - day of the week in text form (Monday, Tuesday, etc.),\n",
    "- page_loads - daily number of pages loaded,\n",
    "- unique_visits - daily number of visitors from IP addresses with no hits in over 6 hours,\n",
    "- first_time_visits - number of unique visitors without a identifying cookie, and\n",
    "- returning_visits - number of unique visitors minus first-time visitors.\n",
    "\n",
    "*Note: The dataset is complete, with no missing values in any of its entries.*"
   ]
  },
  {
   "cell_type": "markdown",
   "metadata": {
    "id": "DCm1qm1mZwMr"
   },
   "source": [
    "Load the dataset into a `pandas` data frame."
   ]
  },
  {
   "cell_type": "code",
   "execution_count": 71,
   "metadata": {},
   "outputs": [
    {
     "data": {
      "text/html": [
       "<div>\n",
       "<style scoped>\n",
       "    .dataframe tbody tr th:only-of-type {\n",
       "        vertical-align: middle;\n",
       "    }\n",
       "\n",
       "    .dataframe tbody tr th {\n",
       "        vertical-align: top;\n",
       "    }\n",
       "\n",
       "    .dataframe thead th {\n",
       "        text-align: right;\n",
       "    }\n",
       "</style>\n",
       "<table border=\"1\" class=\"dataframe\">\n",
       "  <thead>\n",
       "    <tr style=\"text-align: right;\">\n",
       "      <th></th>\n",
       "      <th>date</th>\n",
       "      <th>day_of_week</th>\n",
       "      <th>page_loads</th>\n",
       "      <th>unique_visits</th>\n",
       "      <th>first_time_visits</th>\n",
       "      <th>returning_visits</th>\n",
       "    </tr>\n",
       "  </thead>\n",
       "  <tbody>\n",
       "    <tr>\n",
       "      <th>0</th>\n",
       "      <td>9/14/2014</td>\n",
       "      <td>Sunday</td>\n",
       "      <td>2.146</td>\n",
       "      <td>1.582</td>\n",
       "      <td>1.430</td>\n",
       "      <td>152.0</td>\n",
       "    </tr>\n",
       "    <tr>\n",
       "      <th>1</th>\n",
       "      <td>9/15/2014</td>\n",
       "      <td>Monday</td>\n",
       "      <td>3.621</td>\n",
       "      <td>2.528</td>\n",
       "      <td>2.297</td>\n",
       "      <td>231.0</td>\n",
       "    </tr>\n",
       "    <tr>\n",
       "      <th>2</th>\n",
       "      <td>9/16/2014</td>\n",
       "      <td>Tuesday</td>\n",
       "      <td>3.698</td>\n",
       "      <td>2.630</td>\n",
       "      <td>2.352</td>\n",
       "      <td>278.0</td>\n",
       "    </tr>\n",
       "    <tr>\n",
       "      <th>3</th>\n",
       "      <td>9/17/2014</td>\n",
       "      <td>Wednesday</td>\n",
       "      <td>3.667</td>\n",
       "      <td>2.614</td>\n",
       "      <td>2.327</td>\n",
       "      <td>287.0</td>\n",
       "    </tr>\n",
       "    <tr>\n",
       "      <th>4</th>\n",
       "      <td>9/18/2014</td>\n",
       "      <td>Thursday</td>\n",
       "      <td>3.316</td>\n",
       "      <td>2.366</td>\n",
       "      <td>2.130</td>\n",
       "      <td>236.0</td>\n",
       "    </tr>\n",
       "  </tbody>\n",
       "</table>\n",
       "</div>"
      ],
      "text/plain": [
       "        date day_of_week  page_loads  unique_visits  first_time_visits  \\\n",
       "0  9/14/2014      Sunday       2.146          1.582              1.430   \n",
       "1  9/15/2014      Monday       3.621          2.528              2.297   \n",
       "2  9/16/2014     Tuesday       3.698          2.630              2.352   \n",
       "3  9/17/2014   Wednesday       3.667          2.614              2.327   \n",
       "4  9/18/2014    Thursday       3.316          2.366              2.130   \n",
       "\n",
       "   returning_visits  \n",
       "0             152.0  \n",
       "1             231.0  \n",
       "2             278.0  \n",
       "3             287.0  \n",
       "4             236.0  "
      ]
     },
     "execution_count": 71,
     "metadata": {},
     "output_type": "execute_result"
    }
   ],
   "source": [
    "data = pd.read_csv('website-visitors.csv')\n",
    "data.head(5)"
   ]
  },
  {
   "cell_type": "code",
   "execution_count": 75,
   "metadata": {},
   "outputs": [
    {
     "data": {
      "text/html": [
       "<div>\n",
       "<style scoped>\n",
       "    .dataframe tbody tr th:only-of-type {\n",
       "        vertical-align: middle;\n",
       "    }\n",
       "\n",
       "    .dataframe tbody tr th {\n",
       "        vertical-align: top;\n",
       "    }\n",
       "\n",
       "    .dataframe thead th {\n",
       "        text-align: right;\n",
       "    }\n",
       "</style>\n",
       "<table border=\"1\" class=\"dataframe\">\n",
       "  <thead>\n",
       "    <tr style=\"text-align: right;\">\n",
       "      <th></th>\n",
       "      <th>date</th>\n",
       "      <th>page_loads</th>\n",
       "      <th>unique_visits</th>\n",
       "      <th>first_time_visits</th>\n",
       "      <th>returning_visits</th>\n",
       "    </tr>\n",
       "  </thead>\n",
       "  <tbody>\n",
       "    <tr>\n",
       "      <th>0</th>\n",
       "      <td>9/14/2014</td>\n",
       "      <td>2.146</td>\n",
       "      <td>1.582</td>\n",
       "      <td>1.430</td>\n",
       "      <td>152.0</td>\n",
       "    </tr>\n",
       "    <tr>\n",
       "      <th>1</th>\n",
       "      <td>9/15/2014</td>\n",
       "      <td>3.621</td>\n",
       "      <td>2.528</td>\n",
       "      <td>2.297</td>\n",
       "      <td>231.0</td>\n",
       "    </tr>\n",
       "    <tr>\n",
       "      <th>2</th>\n",
       "      <td>9/16/2014</td>\n",
       "      <td>3.698</td>\n",
       "      <td>2.630</td>\n",
       "      <td>2.352</td>\n",
       "      <td>278.0</td>\n",
       "    </tr>\n",
       "    <tr>\n",
       "      <th>3</th>\n",
       "      <td>9/17/2014</td>\n",
       "      <td>3.667</td>\n",
       "      <td>2.614</td>\n",
       "      <td>2.327</td>\n",
       "      <td>287.0</td>\n",
       "    </tr>\n",
       "    <tr>\n",
       "      <th>4</th>\n",
       "      <td>9/18/2014</td>\n",
       "      <td>3.316</td>\n",
       "      <td>2.366</td>\n",
       "      <td>2.130</td>\n",
       "      <td>236.0</td>\n",
       "    </tr>\n",
       "  </tbody>\n",
       "</table>\n",
       "</div>"
      ],
      "text/plain": [
       "        date  page_loads  unique_visits  first_time_visits  returning_visits\n",
       "0  9/14/2014       2.146          1.582              1.430             152.0\n",
       "1  9/15/2014       3.621          2.528              2.297             231.0\n",
       "2  9/16/2014       3.698          2.630              2.352             278.0\n",
       "3  9/17/2014       3.667          2.614              2.327             287.0\n",
       "4  9/18/2014       3.316          2.366              2.130             236.0"
      ]
     },
     "execution_count": 75,
     "metadata": {},
     "output_type": "execute_result"
    }
   ],
   "source": [
    "data.drop('day_of_week',axis=1,inplace=True)\n",
    "data.head(5)"
   ]
  },
  {
   "cell_type": "code",
   "execution_count": 77,
   "metadata": {},
   "outputs": [
    {
     "data": {
      "text/html": [
       "<div>\n",
       "<style scoped>\n",
       "    .dataframe tbody tr th:only-of-type {\n",
       "        vertical-align: middle;\n",
       "    }\n",
       "\n",
       "    .dataframe tbody tr th {\n",
       "        vertical-align: top;\n",
       "    }\n",
       "\n",
       "    .dataframe thead th {\n",
       "        text-align: right;\n",
       "    }\n",
       "</style>\n",
       "<table border=\"1\" class=\"dataframe\">\n",
       "  <thead>\n",
       "    <tr style=\"text-align: right;\">\n",
       "      <th></th>\n",
       "      <th>date</th>\n",
       "      <th>page_loads</th>\n",
       "      <th>unique_visits</th>\n",
       "      <th>first_time_visits</th>\n",
       "      <th>returning_visits</th>\n",
       "    </tr>\n",
       "  </thead>\n",
       "  <tbody>\n",
       "    <tr>\n",
       "      <th>0</th>\n",
       "      <td>2014-09-14</td>\n",
       "      <td>2.146</td>\n",
       "      <td>1.582</td>\n",
       "      <td>1.430</td>\n",
       "      <td>152.0</td>\n",
       "    </tr>\n",
       "    <tr>\n",
       "      <th>1</th>\n",
       "      <td>2014-09-15</td>\n",
       "      <td>3.621</td>\n",
       "      <td>2.528</td>\n",
       "      <td>2.297</td>\n",
       "      <td>231.0</td>\n",
       "    </tr>\n",
       "    <tr>\n",
       "      <th>2</th>\n",
       "      <td>2014-09-16</td>\n",
       "      <td>3.698</td>\n",
       "      <td>2.630</td>\n",
       "      <td>2.352</td>\n",
       "      <td>278.0</td>\n",
       "    </tr>\n",
       "    <tr>\n",
       "      <th>3</th>\n",
       "      <td>2014-09-17</td>\n",
       "      <td>3.667</td>\n",
       "      <td>2.614</td>\n",
       "      <td>2.327</td>\n",
       "      <td>287.0</td>\n",
       "    </tr>\n",
       "    <tr>\n",
       "      <th>4</th>\n",
       "      <td>2014-09-18</td>\n",
       "      <td>3.316</td>\n",
       "      <td>2.366</td>\n",
       "      <td>2.130</td>\n",
       "      <td>236.0</td>\n",
       "    </tr>\n",
       "  </tbody>\n",
       "</table>\n",
       "</div>"
      ],
      "text/plain": [
       "        date  page_loads  unique_visits  first_time_visits  returning_visits\n",
       "0 2014-09-14       2.146          1.582              1.430             152.0\n",
       "1 2014-09-15       3.621          2.528              2.297             231.0\n",
       "2 2014-09-16       3.698          2.630              2.352             278.0\n",
       "3 2014-09-17       3.667          2.614              2.327             287.0\n",
       "4 2014-09-18       3.316          2.366              2.130             236.0"
      ]
     },
     "execution_count": 77,
     "metadata": {},
     "output_type": "execute_result"
    }
   ],
   "source": [
    "data['date'] = pd.to_datetime(data['date'])\n",
    "data = data.sort_values('date')\n",
    "data.head(5)"
   ]
  },
  {
   "cell_type": "markdown",
   "metadata": {
    "id": "5slwyyhCKRo9"
   },
   "source": [
    "Explore the dataset using visualizations of your choice."
   ]
  },
  {
   "cell_type": "code",
   "execution_count": 79,
   "metadata": {},
   "outputs": [],
   "source": [
    "def vizuelizacija(data,columns,numerical):\n",
    "    plt.figure(figsize=(14,4))\n",
    "    for i in range(len(columns)):\n",
    "        plt.subplot(1,len(columns),i+1)\n",
    "        if numerical:\n",
    "            plt.hist(data[columns[i]],bins=15)\n",
    "        else:\n",
    "            counts = data.groupby(columns[i]).size()\n",
    "            plt.bar(counts.index.astype(str),counts)\n",
    "        plt.title(columns[i])"
   ]
  },
  {
   "cell_type": "code",
   "execution_count": 81,
   "metadata": {},
   "outputs": [
    {
     "data": {
      "image/png": "[encoded data removed]",
      "text/plain": [
       "<Figure size 1400x400 with 4 Axes>"
      ]
     },
     "metadata": {},
     "output_type": "display_data"
    }
   ],
   "source": [
    "vizuelizacija(data,['page_loads','unique_visits','first_time_visits','returning_visits'],True)"
   ]
  },
  {
   "cell_type": "code",
   "execution_count": 85,
   "metadata": {},
   "outputs": [
    {
     "data": {
      "image/png": "[encoded data removed]",
      "text/plain": [
       "<Figure size 2000x2000 with 2 Axes>"
      ]
     },
     "metadata": {},
     "output_type": "display_data"
    }
   ],
   "source": [
    "plt.figure(figsize=(20, 20))\n",
    "sns.heatmap(data.corr(), annot=True)\n",
    "plt.show()"
   ]
  },
  {
   "cell_type": "markdown",
   "metadata": {
    "id": "38bzs4x4lH9O"
   },
   "source": [
    "Encode the categorical features."
   ]
  },
  {
   "cell_type": "code",
   "execution_count": 83,
   "metadata": {
    "id": "UW4Z6CMelOza"
   },
   "outputs": [],
   "source": [
    "#ja dropnav, zatoa ne enkodirame"
   ]
  },
  {
   "cell_type": "code",
   "execution_count": 87,
   "metadata": {},
   "outputs": [
    {
     "data": {
      "text/html": [
       "<div>\n",
       "<style scoped>\n",
       "    .dataframe tbody tr th:only-of-type {\n",
       "        vertical-align: middle;\n",
       "    }\n",
       "\n",
       "    .dataframe tbody tr th {\n",
       "        vertical-align: top;\n",
       "    }\n",
       "\n",
       "    .dataframe thead th {\n",
       "        text-align: right;\n",
       "    }\n",
       "</style>\n",
       "<table border=\"1\" class=\"dataframe\">\n",
       "  <thead>\n",
       "    <tr style=\"text-align: right;\">\n",
       "      <th></th>\n",
       "      <th>page_loads</th>\n",
       "      <th>unique_visits</th>\n",
       "      <th>first_time_visits</th>\n",
       "      <th>returning_visits</th>\n",
       "    </tr>\n",
       "  </thead>\n",
       "  <tbody>\n",
       "    <tr>\n",
       "      <th>0</th>\n",
       "      <td>2.146</td>\n",
       "      <td>1.582</td>\n",
       "      <td>1.430</td>\n",
       "      <td>152.0</td>\n",
       "    </tr>\n",
       "    <tr>\n",
       "      <th>1</th>\n",
       "      <td>3.621</td>\n",
       "      <td>2.528</td>\n",
       "      <td>2.297</td>\n",
       "      <td>231.0</td>\n",
       "    </tr>\n",
       "    <tr>\n",
       "      <th>2</th>\n",
       "      <td>3.698</td>\n",
       "      <td>2.630</td>\n",
       "      <td>2.352</td>\n",
       "      <td>278.0</td>\n",
       "    </tr>\n",
       "    <tr>\n",
       "      <th>3</th>\n",
       "      <td>3.667</td>\n",
       "      <td>2.614</td>\n",
       "      <td>2.327</td>\n",
       "      <td>287.0</td>\n",
       "    </tr>\n",
       "    <tr>\n",
       "      <th>4</th>\n",
       "      <td>3.316</td>\n",
       "      <td>2.366</td>\n",
       "      <td>2.130</td>\n",
       "      <td>236.0</td>\n",
       "    </tr>\n",
       "  </tbody>\n",
       "</table>\n",
       "</div>"
      ],
      "text/plain": [
       "   page_loads  unique_visits  first_time_visits  returning_visits\n",
       "0       2.146          1.582              1.430             152.0\n",
       "1       3.621          2.528              2.297             231.0\n",
       "2       3.698          2.630              2.352             278.0\n",
       "3       3.667          2.614              2.327             287.0\n",
       "4       3.316          2.366              2.130             236.0"
      ]
     },
     "execution_count": 87,
     "metadata": {},
     "output_type": "execute_result"
    }
   ],
   "source": [
    "data.drop('date',axis=1,inplace=True)\n",
    "data.head(5)"
   ]
  },
  {
   "cell_type": "markdown",
   "metadata": {
    "id": "hZceBEFuiGpI"
   },
   "source": [
    "# Feauture Extraction\n",
    "Apply a lag of one, two, and three days to each chosen feature (except `day_of_week`), creating a set of features representing the statistics from the previous three days. To maintain dataset integrity, eliminate any resulting missing values at the beginning of the dataset.\n",
    "\n",
    "Hint: Use `df['column_name'].shift(period)`. Check the documentation at https://pandas.pydata.org/docs/reference/api/pandas.DataFrame.shift.html."
   ]
  },
  {
   "cell_type": "code",
   "execution_count": 91,
   "metadata": {},
   "outputs": [],
   "source": [
    "columns_for_lags = data.columns\n",
    "for feature in columns_for_lags:\n",
    "    for lag in range(1,4):\n",
    "        data[f'{feature}_lag_{lag}']=data[feature].shift()"
   ]
  },
  {
   "cell_type": "code",
   "execution_count": 93,
   "metadata": {},
   "outputs": [],
   "source": [
    "data=data.dropna()"
   ]
  },
  {
   "cell_type": "code",
   "execution_count": 95,
   "metadata": {},
   "outputs": [
    {
     "data": {
      "text/html": [
       "<div>\n",
       "<style scoped>\n",
       "    .dataframe tbody tr th:only-of-type {\n",
       "        vertical-align: middle;\n",
       "    }\n",
       "\n",
       "    .dataframe tbody tr th {\n",
       "        vertical-align: top;\n",
       "    }\n",
       "\n",
       "    .dataframe thead th {\n",
       "        text-align: right;\n",
       "    }\n",
       "</style>\n",
       "<table border=\"1\" class=\"dataframe\">\n",
       "  <thead>\n",
       "    <tr style=\"text-align: right;\">\n",
       "      <th></th>\n",
       "      <th>page_loads</th>\n",
       "      <th>unique_visits</th>\n",
       "      <th>first_time_visits</th>\n",
       "      <th>returning_visits</th>\n",
       "      <th>page_loads_lag_1</th>\n",
       "      <th>page_loads_lag_2</th>\n",
       "      <th>page_loads_lag_3</th>\n",
       "      <th>unique_visits_lag_1</th>\n",
       "      <th>unique_visits_lag_2</th>\n",
       "      <th>unique_visits_lag_3</th>\n",
       "      <th>first_time_visits_lag_1</th>\n",
       "      <th>first_time_visits_lag_2</th>\n",
       "      <th>first_time_visits_lag_3</th>\n",
       "      <th>returning_visits_lag_1</th>\n",
       "      <th>returning_visits_lag_2</th>\n",
       "      <th>returning_visits_lag_3</th>\n",
       "    </tr>\n",
       "  </thead>\n",
       "  <tbody>\n",
       "    <tr>\n",
       "      <th>1</th>\n",
       "      <td>3.621</td>\n",
       "      <td>2.528</td>\n",
       "      <td>2.297</td>\n",
       "      <td>231.0</td>\n",
       "      <td>2.146</td>\n",
       "      <td>2.146</td>\n",
       "      <td>2.146</td>\n",
       "      <td>1.582</td>\n",
       "      <td>1.582</td>\n",
       "      <td>1.582</td>\n",
       "      <td>1.430</td>\n",
       "      <td>1.430</td>\n",
       "      <td>1.430</td>\n",
       "      <td>152.0</td>\n",
       "      <td>152.0</td>\n",
       "      <td>152.0</td>\n",
       "    </tr>\n",
       "    <tr>\n",
       "      <th>2</th>\n",
       "      <td>3.698</td>\n",
       "      <td>2.630</td>\n",
       "      <td>2.352</td>\n",
       "      <td>278.0</td>\n",
       "      <td>3.621</td>\n",
       "      <td>3.621</td>\n",
       "      <td>3.621</td>\n",
       "      <td>2.528</td>\n",
       "      <td>2.528</td>\n",
       "      <td>2.528</td>\n",
       "      <td>2.297</td>\n",
       "      <td>2.297</td>\n",
       "      <td>2.297</td>\n",
       "      <td>231.0</td>\n",
       "      <td>231.0</td>\n",
       "      <td>231.0</td>\n",
       "    </tr>\n",
       "    <tr>\n",
       "      <th>3</th>\n",
       "      <td>3.667</td>\n",
       "      <td>2.614</td>\n",
       "      <td>2.327</td>\n",
       "      <td>287.0</td>\n",
       "      <td>3.698</td>\n",
       "      <td>3.698</td>\n",
       "      <td>3.698</td>\n",
       "      <td>2.630</td>\n",
       "      <td>2.630</td>\n",
       "      <td>2.630</td>\n",
       "      <td>2.352</td>\n",
       "      <td>2.352</td>\n",
       "      <td>2.352</td>\n",
       "      <td>278.0</td>\n",
       "      <td>278.0</td>\n",
       "      <td>278.0</td>\n",
       "    </tr>\n",
       "    <tr>\n",
       "      <th>4</th>\n",
       "      <td>3.316</td>\n",
       "      <td>2.366</td>\n",
       "      <td>2.130</td>\n",
       "      <td>236.0</td>\n",
       "      <td>3.667</td>\n",
       "      <td>3.667</td>\n",
       "      <td>3.667</td>\n",
       "      <td>2.614</td>\n",
       "      <td>2.614</td>\n",
       "      <td>2.614</td>\n",
       "      <td>2.327</td>\n",
       "      <td>2.327</td>\n",
       "      <td>2.327</td>\n",
       "      <td>287.0</td>\n",
       "      <td>287.0</td>\n",
       "      <td>287.0</td>\n",
       "    </tr>\n",
       "    <tr>\n",
       "      <th>5</th>\n",
       "      <td>2.815</td>\n",
       "      <td>1.863</td>\n",
       "      <td>1.622</td>\n",
       "      <td>241.0</td>\n",
       "      <td>3.316</td>\n",
       "      <td>3.316</td>\n",
       "      <td>3.316</td>\n",
       "      <td>2.366</td>\n",
       "      <td>2.366</td>\n",
       "      <td>2.366</td>\n",
       "      <td>2.130</td>\n",
       "      <td>2.130</td>\n",
       "      <td>2.130</td>\n",
       "      <td>236.0</td>\n",
       "      <td>236.0</td>\n",
       "      <td>236.0</td>\n",
       "    </tr>\n",
       "  </tbody>\n",
       "</table>\n",
       "</div>"
      ],
      "text/plain": [
       "   page_loads  unique_visits  first_time_visits  returning_visits  \\\n",
       "1       3.621          2.528              2.297             231.0   \n",
       "2       3.698          2.630              2.352             278.0   \n",
       "3       3.667          2.614              2.327             287.0   \n",
       "4       3.316          2.366              2.130             236.0   \n",
       "5       2.815          1.863              1.622             241.0   \n",
       "\n",
       "   page_loads_lag_1  page_loads_lag_2  page_loads_lag_3  unique_visits_lag_1  \\\n",
       "1             2.146             2.146             2.146                1.582   \n",
       "2             3.621             3.621             3.621                2.528   \n",
       "3             3.698             3.698             3.698                2.630   \n",
       "4             3.667             3.667             3.667                2.614   \n",
       "5             3.316             3.316             3.316                2.366   \n",
       "\n",
       "   unique_visits_lag_2  unique_visits_lag_3  first_time_visits_lag_1  \\\n",
       "1                1.582                1.582                    1.430   \n",
       "2                2.528                2.528                    2.297   \n",
       "3                2.630                2.630                    2.352   \n",
       "4                2.614                2.614                    2.327   \n",
       "5                2.366                2.366                    2.130   \n",
       "\n",
       "   first_time_visits_lag_2  first_time_visits_lag_3  returning_visits_lag_1  \\\n",
       "1                    1.430                    1.430                   152.0   \n",
       "2                    2.297                    2.297                   231.0   \n",
       "3                    2.352                    2.352                   278.0   \n",
       "4                    2.327                    2.327                   287.0   \n",
       "5                    2.130                    2.130                   236.0   \n",
       "\n",
       "   returning_visits_lag_2  returning_visits_lag_3  \n",
       "1                   152.0                   152.0  \n",
       "2                   231.0                   231.0  \n",
       "3                   278.0                   278.0  \n",
       "4                   287.0                   287.0  \n",
       "5                   236.0                   236.0  "
      ]
     },
     "execution_count": 95,
     "metadata": {},
     "output_type": "execute_result"
    }
   ],
   "source": [
    "data.head(5)"
   ]
  },
  {
   "cell_type": "markdown",
   "metadata": {
    "id": "tls69_PrbJKW"
   },
   "source": [
    "## Dataset Splitting\n",
    "Partition the dataset into training and testing sets with an 80:20 ratio.\n",
    "\n",
    "**WARNING: DO NOT SHUFFLE THE DATASET.**\n",
    "\n"
   ]
  },
  {
   "cell_type": "code",
   "execution_count": 99,
   "metadata": {},
   "outputs": [],
   "source": [
    "from sklearn.model_selection import train_test_split\n",
    "data_new = data.drop('page_loads',axis=1)\n",
    "X_train,X_test,Y_train,Y_test = train_test_split(data_new,data['page_loads'],test_size=0.2,shuffle=False)"
   ]
  },
  {
   "cell_type": "code",
   "execution_count": 101,
   "metadata": {},
   "outputs": [],
   "source": [
    "from sklearn.preprocessing import MinMaxScaler\n",
    "from keras.models import Sequential\n",
    "from keras.layers import Input, LSTM, Dense"
   ]
  },
  {
   "cell_type": "code",
   "execution_count": 103,
   "metadata": {},
   "outputs": [],
   "source": [
    "scaler = MinMaxScaler()\n",
    "X_train = scaler.fit_transform(X_train)\n",
    "X_test = scaler.transform(X_test)"
   ]
  },
  {
   "cell_type": "code",
   "execution_count": null,
   "metadata": {},
   "outputs": [],
   "source": []
  },
  {
   "cell_type": "code",
   "execution_count": 107,
   "metadata": {},
   "outputs": [],
   "source": [
    "X_train = X_train.reshape(X_train.shape[0], lag, (X_train.shape[1] // lag))\n",
    "X_test = X_test.reshape(X_test.shape[0], lag, (X_test.shape[1] // lag))"
   ]
  },
  {
   "cell_type": "code",
   "execution_count": 109,
   "metadata": {},
   "outputs": [
    {
     "data": {
      "text/plain": [
       "3"
      ]
     },
     "execution_count": 109,
     "metadata": {},
     "output_type": "execute_result"
    }
   ],
   "source": [
    "X_train.shape[1]"
   ]
  },
  {
   "cell_type": "code",
   "execution_count": 111,
   "metadata": {},
   "outputs": [],
   "source": [
    "model = Sequential([\n",
    "    Input((X_train.shape[1], X_train.shape[2],)),\n",
    "    LSTM(8, activation=\"relu\", return_sequences=True),\n",
    "    LSTM(4, activation=\"relu\"),\n",
    "    Dense(1, activation=\"linear\")\n",
    "])"
   ]
  },
  {
   "cell_type": "code",
   "execution_count": 113,
   "metadata": {},
   "outputs": [],
   "source": [
    "model.compile(\n",
    "    loss=\"mean_squared_error\",\n",
    "    optimizer=\"adam\",\n",
    "    metrics=[\"mean_squared_error\"],\n",
    ")"
   ]
  },
  {
   "cell_type": "code",
   "execution_count": 117,
   "metadata": {},
   "outputs": [
    {
     "name": "stdout",
     "output_type": "stream",
     "text": [
      "Epoch 1/4\n",
      "\u001b[1m174/174\u001b[0m \u001b[32m━━━━━━━━━━━━━━━━━━━━\u001b[0m\u001b[37m\u001b[0m \u001b[1m4s\u001b[0m 6ms/step - loss: 16.2164 - mean_squared_error: 16.2164 - val_loss: 1.2745 - val_mean_squared_error: 1.2745\n",
      "Epoch 2/4\n",
      "\u001b[1m174/174\u001b[0m \u001b[32m━━━━━━━━━━━━━━━━━━━━\u001b[0m\u001b[37m\u001b[0m \u001b[1m1s\u001b[0m 4ms/step - loss: 1.5833 - mean_squared_error: 1.5833 - val_loss: 0.8259 - val_mean_squared_error: 0.8259\n",
      "Epoch 3/4\n",
      "\u001b[1m174/174\u001b[0m \u001b[32m━━━━━━━━━━━━━━━━━━━━\u001b[0m\u001b[37m\u001b[0m \u001b[1m1s\u001b[0m 3ms/step - loss: 1.0196 - mean_squared_error: 1.0196 - val_loss: 0.5791 - val_mean_squared_error: 0.5791\n",
      "Epoch 4/4\n",
      "\u001b[1m174/174\u001b[0m \u001b[32m━━━━━━━━━━━━━━━━━━━━\u001b[0m\u001b[37m\u001b[0m \u001b[1m1s\u001b[0m 3ms/step - loss: 0.7131 - mean_squared_error: 0.7131 - val_loss: 0.4402 - val_mean_squared_error: 0.4402\n"
     ]
    }
   ],
   "source": [
    "history = model.fit(X_train, Y_train, validation_split=0.2, epochs=4, batch_size=8, shuffle=False)"
   ]
  },
  {
   "cell_type": "code",
   "execution_count": 119,
   "metadata": {},
   "outputs": [
    {
     "data": {
      "text/plain": [
       "<Axes: >"
      ]
     },
     "execution_count": 119,
     "metadata": {},
     "output_type": "execute_result"
    },
    {
     "data": {
      "image/png": "[encoded data removed]",
      "text/plain": [
       "<Figure size 640x480 with 1 Axes>"
      ]
     },
     "metadata": {},
     "output_type": "display_data"
    }
   ],
   "source": [
    "sns.lineplot(history.history[\"loss\"], label=\"loss\")\n",
    "sns.lineplot(history.history[\"val_loss\"], label=\"val_loss\")"
   ]
  },
  {
   "cell_type": "code",
   "execution_count": 121,
   "metadata": {},
   "outputs": [
    {
     "name": "stdout",
     "output_type": "stream",
     "text": [
      "\u001b[1m14/14\u001b[0m \u001b[32m━━━━━━━━━━━━━━━━━━━━\u001b[0m\u001b[37m\u001b[0m \u001b[1m1s\u001b[0m 22ms/step\n"
     ]
    }
   ],
   "source": [
    "y_pred = model.predict(X_test)"
   ]
  },
  {
   "cell_type": "code",
   "execution_count": 127,
   "metadata": {},
   "outputs": [
    {
     "ename": "ValueError",
     "evalue": "non-broadcastable output operand with shape (434,1) doesn't match the broadcast shape (434,15)",
     "output_type": "error",
     "traceback": [
      "\u001b[1;31m---------------------------------------------------------------------------\u001b[0m",
      "\u001b[1;31mValueError\u001b[0m                                Traceback (most recent call last)",
      "Cell \u001b[1;32mIn[127], line 1\u001b[0m\n\u001b[1;32m----> 1\u001b[0m y_pred \u001b[38;5;241m=\u001b[39m scaler\u001b[38;5;241m.\u001b[39minverse_transform(y_pred)\n",
      "File \u001b[1;32m~\\anaconda3\\Lib\\site-packages\\sklearn\\preprocessing\\_data.py:574\u001b[0m, in \u001b[0;36mMinMaxScaler.inverse_transform\u001b[1;34m(self, X)\u001b[0m\n\u001b[0;32m    564\u001b[0m xp, _ \u001b[38;5;241m=\u001b[39m get_namespace(X)\n\u001b[0;32m    566\u001b[0m X \u001b[38;5;241m=\u001b[39m check_array(\n\u001b[0;32m    567\u001b[0m     X,\n\u001b[0;32m    568\u001b[0m     copy\u001b[38;5;241m=\u001b[39m\u001b[38;5;28mself\u001b[39m\u001b[38;5;241m.\u001b[39mcopy,\n\u001b[1;32m   (...)\u001b[0m\n\u001b[0;32m    571\u001b[0m     force_all_finite\u001b[38;5;241m=\u001b[39m\u001b[38;5;124m\"\u001b[39m\u001b[38;5;124mallow-nan\u001b[39m\u001b[38;5;124m\"\u001b[39m,\n\u001b[0;32m    572\u001b[0m )\n\u001b[1;32m--> 574\u001b[0m X \u001b[38;5;241m-\u001b[39m\u001b[38;5;241m=\u001b[39m \u001b[38;5;28mself\u001b[39m\u001b[38;5;241m.\u001b[39mmin_\n\u001b[0;32m    575\u001b[0m X \u001b[38;5;241m/\u001b[39m\u001b[38;5;241m=\u001b[39m \u001b[38;5;28mself\u001b[39m\u001b[38;5;241m.\u001b[39mscale_\n\u001b[0;32m    576\u001b[0m \u001b[38;5;28;01mreturn\u001b[39;00m X\n",
      "\u001b[1;31mValueError\u001b[0m: non-broadcastable output operand with shape (434,1) doesn't match the broadcast shape (434,15)"
     ]
    }
   ],
   "source": [
    "y_pred = scaler.inverse_transform(y_pred)"
   ]
  },
  {
   "cell_type": "code",
   "execution_count": 125,
   "metadata": {},
   "outputs": [
    {
     "data": {
      "text/plain": [
       "0.7185173272974272"
      ]
     },
     "execution_count": 125,
     "metadata": {},
     "output_type": "execute_result"
    }
   ],
   "source": [
    "from sklearn.metrics import r2_score\n",
    "r2_score(Y_test,y_pred)"
   ]
  },
  {
   "cell_type": "markdown",
   "metadata": {
    "id": "VIkAR1Hibiwr"
   },
   "source": [
    "## Ensemble Learning Methods"
   ]
  },
  {
   "cell_type": "markdown",
   "metadata": {
    "id": "-XPgBlD7jgI5"
   },
   "source": [
    "### Bagging"
   ]
  },
  {
   "cell_type": "markdown",
   "metadata": {
    "id": "qWn1pafKbnxH"
   },
   "source": [
    "Create an instance of a Random Forest model and train it using the `fit` function."
   ]
  },
  {
   "cell_type": "code",
   "execution_count": null,
   "metadata": {},
   "outputs": [],
   "source": []
  },
  {
   "cell_type": "markdown",
   "metadata": {
    "id": "gyXZwAVab8Cp"
   },
   "source": [
    "Use the trained model to make predictions for the test set."
   ]
  },
  {
   "cell_type": "code",
   "execution_count": null,
   "metadata": {},
   "outputs": [],
   "source": []
  },
  {
   "cell_type": "markdown",
   "metadata": {
    "id": "3VxAvDPtcNCh"
   },
   "source": [
    "Assess the performance of the model by using different metrics provided by the `scikit-learn` library."
   ]
  },
  {
   "cell_type": "code",
   "execution_count": null,
   "metadata": {},
   "outputs": [],
   "source": []
  },
  {
   "cell_type": "markdown",
   "metadata": {
    "id": "4LF1v6lbjcGL"
   },
   "source": [
    "### Boosting"
   ]
  },
  {
   "cell_type": "markdown",
   "metadata": {
    "id": "VpuBInwyjkRr"
   },
   "source": [
    "Create an instance of an XGBoost model and train it using the `fit` function."
   ]
  },
  {
   "cell_type": "markdown",
   "metadata": {
    "id": "30u245l0jnhE"
   },
   "source": [
    "Use the trained model to make predictions for the test set."
   ]
  },
  {
   "cell_type": "markdown",
   "metadata": {
    "id": "UWnX_tVNjqGl"
   },
   "source": [
    "Assess the performance of the model by using different metrics provided by the `scikit-learn` library."
   ]
  },
  {
   "cell_type": "markdown",
   "metadata": {
    "id": "RwnD_qSpIeXG"
   },
   "source": [
    "# Laboratory Exercise - Bonus Task (+ 2 points)"
   ]
  },
  {
   "cell_type": "markdown",
   "metadata": {
    "id": "lSTuVpyYd2is"
   },
   "source": [
    "As part of the bonus task in this laboratory assignment, your objective is to fine-tune the number of estimators (`n_estimators`) for the XGBoost model using a cross-validation with grid search and time series split. This involves systematically experimenting with various values for `n_estimators` and evaluating the model's performance using cross-validation. Upon determining the most suitable `n_estimators` value, evaluate the model's performance on a test set for final assessment.\n",
    "\n",
    "Hints:\n",
    "- For grid search use the `GridCVSearch` from the `scikit-learn` library. Check the documentation at https://scikit-learn.org/stable/modules/generated/sklearn.model_selection.GridSearchCV.html.\n",
    "- For cross-validation use the `TimeSeriesSplit` from the `scikit-learn` library. Check the documentation at https://scikit-learn.org/stable/modules/generated/sklearn.model_selection.TimeSeriesSplit.html."
   ]
  },
  {
   "cell_type": "markdown",
   "metadata": {
    "id": "yZriA4d4eWLJ"
   },
   "source": [
    "## Dataset Splitting\n",
    "Partition the dataset into training and testing sets with an 90:10 ratio.\n",
    "\n",
    "**WARNING: DO NOT SHUFFLE THE DATASET.**"
   ]
  },
  {
   "cell_type": "code",
   "execution_count": null,
   "metadata": {
    "id": "ile-T3vmIfsm"
   },
   "outputs": [],
   "source": [
    "# Write your code here. Add as many boxes as you need."
   ]
  },
  {
   "cell_type": "markdown",
   "metadata": {
    "id": "E9myidoNgjmy"
   },
   "source": [
    "## Fine-tuning the XGBoost Hyperparameter\n",
    "Experiment with various values for `n_estimators` and evaluate the model's performance using cross-validation."
   ]
  },
  {
   "cell_type": "code",
   "execution_count": null,
   "metadata": {
    "id": "Vb5WJwEggm1f"
   },
   "outputs": [],
   "source": [
    "# Write your code here. Add as many boxes as you need."
   ]
  },
  {
   "cell_type": "markdown",
   "metadata": {
    "id": "OzxTQJABiWAp"
   },
   "source": [
    "## Final Assessment of the Model Performance\n",
    "Upon determining the most suitable `n_estimators` value, evaluate the model's performance on a test set for final assessment."
   ]
  },
  {
   "cell_type": "code",
   "execution_count": null,
   "metadata": {
    "id": "oK__muPhicCr"
   },
   "outputs": [],
   "source": [
    "# Write your code here. Add as many boxes as you need."
   ]
  }
 ],
 "metadata": {
  "colab": {
   "provenance": []
  },
  "kernelspec": {
   "display_name": "Python 3 (ipykernel)",
   "language": "python",
   "name": "python3"
  },
  "language_info": {
   "codemirror_mode": {
    "name": "ipython",
    "version": 3
   },
   "file_extension": ".py",
   "mimetype": "text/x-python",
   "name": "python",
   "nbconvert_exporter": "python",
   "pygments_lexer": "ipython3",
   "version": "3.12.7"
  }
 },
 "nbformat": 4,
 "nbformat_minor": 4
}
